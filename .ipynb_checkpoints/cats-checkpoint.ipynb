{
 "cells": [
  {
   "cell_type": "code",
   "execution_count": 1,
   "id": "d50cec8e",
   "metadata": {},
   "outputs": [],
   "source": [
    "import json\n",
    "import pandas as pd\n",
    "import numpy as np"
   ]
  },
  {
   "cell_type": "code",
   "execution_count": 3,
   "id": "8d615ba7",
   "metadata": {},
   "outputs": [
    {
     "name": "stdout",
     "output_type": "stream",
     "text": [
      "['ragdoll', 'tabby', 'sphinx']\n"
     ]
    }
   ],
   "source": [
    "cat = [\"ragdoll\", \"tabby\", \"sphinx\"]\n",
    "print(cat)"
   ]
  },
  {
   "cell_type": "code",
   "execution_count": 4,
   "id": "d37611ac",
   "metadata": {},
   "outputs": [
    {
     "name": "stdout",
     "output_type": "stream",
     "text": [
      "['ragdoll', 'tabby', 'sphinx', 'maincoon']\n"
     ]
    }
   ],
   "source": [
    "cat.append(\"maincoon\")\n",
    "print(cat)"
   ]
  },
  {
   "cell_type": "code",
   "execution_count": null,
   "id": "a0897299",
   "metadata": {},
   "outputs": [],
   "source": []
  }
 ],
 "metadata": {
  "kernelspec": {
   "display_name": "PythonData",
   "language": "python",
   "name": "pythondata"
  },
  "language_info": {
   "codemirror_mode": {
    "name": "ipython",
    "version": 3
   },
   "file_extension": ".py",
   "mimetype": "text/x-python",
   "name": "python",
   "nbconvert_exporter": "python",
   "pygments_lexer": "ipython3",
   "version": "3.7.10"
  }
 },
 "nbformat": 4,
 "nbformat_minor": 5
}
